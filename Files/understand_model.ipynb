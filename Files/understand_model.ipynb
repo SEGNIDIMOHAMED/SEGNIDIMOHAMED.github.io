{
 "cells": [
  {
   "cell_type": "code",
   "execution_count": 1,
   "metadata": {},
   "outputs": [
    {
     "name": "stderr",
     "output_type": "stream",
     "text": [
      "C:\\Users\\Wenlei\\Anaconda3\\envs\\ML\\lib\\site-packages\\tqdm\\auto.py:22: TqdmWarning: IProgress not found. Please update jupyter and ipywidgets. See https://ipywidgets.readthedocs.io/en/stable/user_install.html\n",
      "  from .autonotebook import tqdm as notebook_tqdm\n"
     ]
    }
   ],
   "source": [
    "#https://dylancastillo.co/text-classification-using-python-and-scikit-learn/\n",
    "#import packages\n",
    "import pandas as pd\n",
    "import numpy as np\n",
    "import re\n",
    "import string\n",
    "import os\n",
    "import emoji\n",
    "from sklearn.base import BaseEstimator, TransformerMixin\n",
    "from sklearn.feature_extraction.text import CountVectorizer, TfidfVectorizer, TfidfTransformer\n",
    "from sklearn.feature_selection import chi2,SelectKBest\n",
    "from sklearn.model_selection import GridSearchCV, train_test_split\n",
    "from sklearn.impute import SimpleImputer\n",
    "from sklearn.preprocessing import StandardScaler, MinMaxScaler, OneHotEncoder, FunctionTransformer\n",
    "from sklearn.compose import make_column_transformer\n",
    "from sklearn.pipeline import Pipeline, FeatureUnion, make_pipeline, make_union\n",
    "from sklearn.metrics import classification_report, confusion_matrix\n",
    "from sklearn.naive_bayes import MultinomialNB\n",
    "from sklearn.linear_model import LogisticRegression\n",
    "from joblib import dump, load\n",
    "import shap\n"
   ]
  },
  {
   "cell_type": "code",
   "execution_count": 2,
   "metadata": {},
   "outputs": [],
   "source": [
    "from nltk.corpus import stopwords\n",
    "from nltk.stem import PorterStemmer\n",
    "from nltk.tokenize import word_tokenize\n",
    "import warnings\n",
    "warnings.filterwarnings('ignore')"
   ]
  },
  {
   "cell_type": "code",
   "execution_count": 3,
   "metadata": {},
   "outputs": [],
   "source": [
    "from sklearn.linear_model import LogisticRegression\n",
    "from sklearn.svm import SVC\n",
    "from sklearn.ensemble import RandomForestClassifier\n",
    "from sklearn.ensemble import GradientBoostingClassifier\n",
    "from sklearn.pipeline import Pipeline\n",
    "from sklearn.model_selection import GridSearchCV, RandomizedSearchCV\n",
    "from sklearn.model_selection import train_test_split\n",
    "from sklearn.model_selection import learning_curve\n",
    "from sklearn.model_selection import validation_curve\n",
    "from sklearn.model_selection import cross_val_score\n",
    "from sklearn.tree import DecisionTreeClassifier\n",
    "from sklearn.naive_bayes import MultinomialNB\n",
    "from sklearn.neighbors import KNeighborsClassifier\n",
    "from sklearn.metrics import *\n",
    "from xgboost import XGBClassifier"
   ]
  },
  {
   "cell_type": "code",
   "execution_count": 4,
   "metadata": {},
   "outputs": [],
   "source": [
    "#visualization related\n",
    "import seaborn as sns\n",
    "import matplotlib.pyplot as plt\n",
    "%matplotlib inline"
   ]
  },
  {
   "cell_type": "code",
   "execution_count": 5,
   "metadata": {},
   "outputs": [],
   "source": [
    "#log cannot hand negtive or 0, instead using some \n",
    "\n",
    "def logTransformer (df):\n",
    "    return df.apply(lambda x : np.log(x+1))\n",
    "\n",
    "\n",
    "log_transformer = FunctionTransformer(logTransformer)"
   ]
  },
  {
   "cell_type": "code",
   "execution_count": 6,
   "metadata": {},
   "outputs": [],
   "source": [
    "class CleanText(BaseEstimator, TransformerMixin):\n",
    "    def remove_mentions(self, input_text):\n",
    "        return re.sub(r'@\\w+', '', str(input_text))\n",
    "    \n",
    "    def remove_urls(self, input_text):\n",
    "        return re.sub(r'http.?://[^\\s]+[\\s]?', '', str(input_text))\n",
    "    \n",
    "    def emoji_oneword(self, input_text):\n",
    "        # By compressing the underscore, the emoji is kept as one word\n",
    "        return str(input_text).replace('_','')\n",
    "    \n",
    "    def remove_punctuation(self, input_text):\n",
    "        # Make translation table\n",
    "        punct = string.punctuation\n",
    "        trantab = str.maketrans(punct, len(punct)*' ')  # Every punctuation symbol will be replaced by a space\n",
    "        return str(input_text).translate(trantab)\n",
    "    def remove_digits(self, input_text):\n",
    "        return re.sub('\\d+', '', str(input_text))\n",
    "    \n",
    "    def to_lower(self, input_text):\n",
    "        return str(input_text).lower()\n",
    "    \n",
    "    def remove_stopwords(self, input_text):\n",
    "        stopwords_list = stopwords.words('english')\n",
    "        # Some words which might indicate a certain sentiment are kept via a whitelist\n",
    "        whitelist = [\"n't\", \"not\", \"no\"]\n",
    "        words = str(input_text).split() \n",
    "        clean_words = [word for word in words if (word not in stopwords_list or word in whitelist) and len(word) > 1] \n",
    "        return \" \".join(clean_words) \n",
    "    \n",
    "    def stemming(self, input_text):\n",
    "        porter = PorterStemmer()\n",
    "        words = str(input_text).split() \n",
    "        stemmed_words = [porter.stem(word) for word in words]\n",
    "        return \" \".join(stemmed_words)\n",
    "    \n",
    "#     def fill_blank_text (self, input_text):\n",
    "#         empty_clean = input_text == ''\n",
    "#         #print('{} records have no words left after text cleaning'.format(sr_clean[empty_clean].count()))\n",
    "#         input_text.loc[empty_clean] = '[no_text]'\n",
    "    \n",
    "    def fit(self, X, y=None, **fit_params):\n",
    "        return self\n",
    "    \n",
    "    def transform(self, X, **transform_params):\n",
    "        clean_X = X.apply(self.remove_mentions).apply(self.remove_urls).apply(self.emoji_oneword).apply(self.remove_punctuation).apply(self.remove_digits).apply(self.to_lower).apply(self.remove_stopwords).apply(self.stemming)\n",
    "        return clean_X"
   ]
  },
  {
   "cell_type": "code",
   "execution_count": 7,
   "metadata": {},
   "outputs": [],
   "source": [
    "class OneDWrapper:\n",
    "    \"\"\"One dimensional wrapper for sklearn Transformers\"\"\"\n",
    "\n",
    "    def __init__(self, transformer):\n",
    "        self.transformer = transformer\n",
    "\n",
    "    def fit(self, X, y=None):\n",
    "        self.transformer.fit(np.array(X).reshape(-1, 1))\n",
    "        return self\n",
    "\n",
    "    def transform(self, X, y=None):\n",
    "        return self.transformer.transform(\n",
    "            np.array(X).reshape(-1, 1)).ravel()\n",
    "\n",
    "    def inverse_transform(self, X, y=None):\n",
    "        return self.transformer.inverse_transform(\n",
    "            np.expand_dims(X, axis=1)).ravel()"
   ]
  },
  {
   "cell_type": "code",
   "execution_count": 8,
   "metadata": {},
   "outputs": [
    {
     "data": {
      "text/plain": [
       "sklearn.model_selection._search.RandomizedSearchCV"
      ]
     },
     "execution_count": 8,
     "metadata": {},
     "output_type": "execute_result"
    }
   ],
   "source": [
    "\n",
    "gs = load(r'.\\pickle\\handle_different_type.pickle')\n",
    "type(gs)"
   ]
  },
  {
   "cell_type": "code",
   "execution_count": 9,
   "metadata": {},
   "outputs": [
    {
     "data": {
      "text/plain": [
       "RandomizedSearchCV(cv=3,\n",
       "                   estimator=Pipeline(steps=[('preprocessor',\n",
       "                                              ColumnTransformer(transformers=[('pipeline-1',\n",
       "                                                                               Pipeline(steps=[('functiontransformer',\n",
       "                                                                                                FunctionTransformer(func=<function logTransformer at 0x000002C8422BF280>)),\n",
       "                                                                                               ('simpleimputer',\n",
       "                                                                                                SimpleImputer(strategy='median')),\n",
       "                                                                                               ('standardscaler',\n",
       "                                                                                                StandardScaler())]),\n",
       "                                                                               ['Age',\n",
       "                                                                                'Rating',\n",
       "                                                                                'Positive '\n",
       "                                                                                'Feedback '\n",
       "                                                                                'C...\n",
       "                                                                      num_parallel_tree=None,\n",
       "                                                                      predictor=None,\n",
       "                                                                      random_state=42,\n",
       "                                                                      reg_alpha=None,\n",
       "                                                                      reg_lambda=None,\n",
       "                                                                      scale_pos_weight=None,\n",
       "                                                                      subsample=None,\n",
       "                                                                      tree_method=None,\n",
       "                                                                      validate_parameters=None,\n",
       "                                                                      verbosity=None)],\n",
       "                                         'classifier__learning_rate': [0.05,\n",
       "                                                                       0.1,\n",
       "                                                                       0.2],\n",
       "                                         'classifier__max_depth': [3, 6, 9],\n",
       "                                         'classifier__min_child_weight': [1, 10,\n",
       "                                                                          100],\n",
       "                                         'classifier__n_estimators': [100, 400,\n",
       "                                                                      800]}],\n",
       "                   scoring='roc_auc')"
      ]
     },
     "execution_count": 9,
     "metadata": {},
     "output_type": "execute_result"
    }
   ],
   "source": [
    "gs"
   ]
  },
  {
   "cell_type": "code",
   "execution_count": 10,
   "metadata": {
    "scrolled": false
   },
   "outputs": [
    {
     "data": {
      "text/plain": [
       "array([ 0.04684976,  4.875678  , -0.13266825, -0.03649512,  0.        ,\n",
       "        0.        ,  0.        ,  0.        , -0.12349634,  0.04795618,\n",
       "        0.        ,  0.        ,  0.        ,  0.        ,  0.00893047,\n",
       "       -0.09344842,  0.        ,  0.        ,  0.        ,  0.26283749,\n",
       "       -0.04691911,  0.        ,  0.        ,  0.        ,  0.        ,\n",
       "       -0.68479338, -0.0916229 , -0.7460114 ,  0.        ,  0.        ,\n",
       "       -0.02928438,  0.        ,  0.        , -0.47551124,  0.78372686,\n",
       "        0.        , -2.54639447, -0.65597914,  0.14455008,  0.77047569,\n",
       "        1.73882427,  0.10446189,  0.63460996,  0.65134207,  0.73139528,\n",
       "       -0.75250951, -0.44833494,  0.8744729 ,  0.50824661,  1.21449664,\n",
       "       -0.66021852,  1.90675898, -2.37810114,  0.        ,  0.        ,\n",
       "       -0.3179332 , -0.46772572,  0.        , -0.23020288, -0.93404412,\n",
       "       -0.35823765,  0.68217294,  0.        ,  0.27483472,  0.        ,\n",
       "       -0.04494653,  1.14506355,  0.        ,  0.        ,  0.        ,\n",
       "        0.63224388, -0.05551867, -0.17538435,  0.        , -1.24119428,\n",
       "        0.        ,  0.        , -0.0304305 , -0.57467294, -0.12857488,\n",
       "        0.67774479, -0.64638586,  0.        ,  0.        ,  0.        ,\n",
       "        0.        ,  0.91348796,  0.44347957,  1.09919382,  0.        ,\n",
       "        0.55380796,  0.04243583,  0.        ,  0.        , -1.10690881,\n",
       "       -0.16679169,  0.        ,  0.87755933,  0.71943898,  0.        ,\n",
       "        0.72466324, -1.19620252,  0.48292762,  0.        ,  0.        ,\n",
       "       -0.7242316 , -1.49651122, -0.72895449,  0.        ,  0.        ,\n",
       "        0.86820965,  0.77607066,  0.        ,  0.        ,  0.        ,\n",
       "        0.37171815,  0.64480377,  0.        , -0.02127762,  0.        ,\n",
       "        0.        ,  0.12121314, -0.28815863, -1.34543077, -0.32624552,\n",
       "       -0.09921793,  0.        , -1.82484678, -0.09091286,  0.0816035 ,\n",
       "       -1.5491776 , -0.29373985, -0.10303559,  0.98646834,  0.27856129,\n",
       "        0.3322348 ,  0.        ,  0.27555505,  0.        ,  0.        ,\n",
       "       -0.10675448,  0.06042135, -0.33788899, -0.57608797,  0.41845546,\n",
       "        0.        ,  0.        ,  0.5492396 ,  0.        ,  0.        ,\n",
       "        0.        , -0.16864293,  0.        ])"
      ]
     },
     "execution_count": 10,
     "metadata": {},
     "output_type": "execute_result"
    }
   ],
   "source": [
    "estimator = gs.best_estimator_\n",
    "model = estimator.named_steps['classifier']\n",
    "model.coef_.ravel() #153  total variable number"
   ]
  },
  {
   "cell_type": "code",
   "execution_count": 11,
   "metadata": {},
   "outputs": [
    {
     "data": {
      "text/html": [
       "<style>#sk-976e4fac-e540-4224-a6ca-48c5cc79b31c {color: black;background-color: white;}#sk-976e4fac-e540-4224-a6ca-48c5cc79b31c pre{padding: 0;}#sk-976e4fac-e540-4224-a6ca-48c5cc79b31c div.sk-toggleable {background-color: white;}#sk-976e4fac-e540-4224-a6ca-48c5cc79b31c label.sk-toggleable__label {cursor: pointer;display: block;width: 100%;margin-bottom: 0;padding: 0.3em;box-sizing: border-box;text-align: center;}#sk-976e4fac-e540-4224-a6ca-48c5cc79b31c label.sk-toggleable__label-arrow:before {content: \"▸\";float: left;margin-right: 0.25em;color: #696969;}#sk-976e4fac-e540-4224-a6ca-48c5cc79b31c label.sk-toggleable__label-arrow:hover:before {color: black;}#sk-976e4fac-e540-4224-a6ca-48c5cc79b31c div.sk-estimator:hover label.sk-toggleable__label-arrow:before {color: black;}#sk-976e4fac-e540-4224-a6ca-48c5cc79b31c div.sk-toggleable__content {max-height: 0;max-width: 0;overflow: hidden;text-align: left;background-color: #f0f8ff;}#sk-976e4fac-e540-4224-a6ca-48c5cc79b31c div.sk-toggleable__content pre {margin: 0.2em;color: black;border-radius: 0.25em;background-color: #f0f8ff;}#sk-976e4fac-e540-4224-a6ca-48c5cc79b31c input.sk-toggleable__control:checked~div.sk-toggleable__content {max-height: 200px;max-width: 100%;overflow: auto;}#sk-976e4fac-e540-4224-a6ca-48c5cc79b31c input.sk-toggleable__control:checked~label.sk-toggleable__label-arrow:before {content: \"▾\";}#sk-976e4fac-e540-4224-a6ca-48c5cc79b31c div.sk-estimator input.sk-toggleable__control:checked~label.sk-toggleable__label {background-color: #d4ebff;}#sk-976e4fac-e540-4224-a6ca-48c5cc79b31c div.sk-label input.sk-toggleable__control:checked~label.sk-toggleable__label {background-color: #d4ebff;}#sk-976e4fac-e540-4224-a6ca-48c5cc79b31c input.sk-hidden--visually {border: 0;clip: rect(1px 1px 1px 1px);clip: rect(1px, 1px, 1px, 1px);height: 1px;margin: -1px;overflow: hidden;padding: 0;position: absolute;width: 1px;}#sk-976e4fac-e540-4224-a6ca-48c5cc79b31c div.sk-estimator {font-family: monospace;background-color: #f0f8ff;border: 1px dotted black;border-radius: 0.25em;box-sizing: border-box;margin-bottom: 0.5em;}#sk-976e4fac-e540-4224-a6ca-48c5cc79b31c div.sk-estimator:hover {background-color: #d4ebff;}#sk-976e4fac-e540-4224-a6ca-48c5cc79b31c div.sk-parallel-item::after {content: \"\";width: 100%;border-bottom: 1px solid gray;flex-grow: 1;}#sk-976e4fac-e540-4224-a6ca-48c5cc79b31c div.sk-label:hover label.sk-toggleable__label {background-color: #d4ebff;}#sk-976e4fac-e540-4224-a6ca-48c5cc79b31c div.sk-serial::before {content: \"\";position: absolute;border-left: 1px solid gray;box-sizing: border-box;top: 2em;bottom: 0;left: 50%;}#sk-976e4fac-e540-4224-a6ca-48c5cc79b31c div.sk-serial {display: flex;flex-direction: column;align-items: center;background-color: white;padding-right: 0.2em;padding-left: 0.2em;}#sk-976e4fac-e540-4224-a6ca-48c5cc79b31c div.sk-item {z-index: 1;}#sk-976e4fac-e540-4224-a6ca-48c5cc79b31c div.sk-parallel {display: flex;align-items: stretch;justify-content: center;background-color: white;}#sk-976e4fac-e540-4224-a6ca-48c5cc79b31c div.sk-parallel::before {content: \"\";position: absolute;border-left: 1px solid gray;box-sizing: border-box;top: 2em;bottom: 0;left: 50%;}#sk-976e4fac-e540-4224-a6ca-48c5cc79b31c div.sk-parallel-item {display: flex;flex-direction: column;position: relative;background-color: white;}#sk-976e4fac-e540-4224-a6ca-48c5cc79b31c div.sk-parallel-item:first-child::after {align-self: flex-end;width: 50%;}#sk-976e4fac-e540-4224-a6ca-48c5cc79b31c div.sk-parallel-item:last-child::after {align-self: flex-start;width: 50%;}#sk-976e4fac-e540-4224-a6ca-48c5cc79b31c div.sk-parallel-item:only-child::after {width: 0;}#sk-976e4fac-e540-4224-a6ca-48c5cc79b31c div.sk-dashed-wrapped {border: 1px dashed gray;margin: 0 0.4em 0.5em 0.4em;box-sizing: border-box;padding-bottom: 0.4em;background-color: white;position: relative;}#sk-976e4fac-e540-4224-a6ca-48c5cc79b31c div.sk-label label {font-family: monospace;font-weight: bold;background-color: white;display: inline-block;line-height: 1.2em;}#sk-976e4fac-e540-4224-a6ca-48c5cc79b31c div.sk-label-container {position: relative;z-index: 2;text-align: center;}#sk-976e4fac-e540-4224-a6ca-48c5cc79b31c div.sk-container {/* jupyter's `normalize.less` sets `[hidden] { display: none; }` but bootstrap.min.css set `[hidden] { display: none !important; }` so we also need the `!important` here to be able to override the default hidden behavior on the sphinx rendered scikit-learn.org. See: https://github.com/scikit-learn/scikit-learn/issues/21755 */display: inline-block !important;position: relative;}#sk-976e4fac-e540-4224-a6ca-48c5cc79b31c div.sk-text-repr-fallback {display: none;}</style><div id=\"sk-976e4fac-e540-4224-a6ca-48c5cc79b31c\" class=\"sk-top-container\"><div class=\"sk-text-repr-fallback\"><pre>Pipeline(steps=[(&#x27;preprocessor&#x27;,\n",
       "                 ColumnTransformer(transformers=[(&#x27;pipeline-1&#x27;,\n",
       "                                                  Pipeline(steps=[(&#x27;functiontransformer&#x27;,\n",
       "                                                                   FunctionTransformer(func=&lt;function logTransformer at 0x000002C8422BF280&gt;)),\n",
       "                                                                  (&#x27;simpleimputer&#x27;,\n",
       "                                                                   SimpleImputer(strategy=&#x27;median&#x27;)),\n",
       "                                                                  (&#x27;standardscaler&#x27;,\n",
       "                                                                   StandardScaler())]),\n",
       "                                                  [&#x27;Age&#x27;, &#x27;Rating&#x27;,\n",
       "                                                   &#x27;Positive Feedback Count&#x27;]),\n",
       "                                                 (&#x27;pipeline-2&#x27;,\n",
       "                                                  Pipeline(steps=[...\n",
       "                                                                                               &#x27;اللتان&#x27;,\n",
       "                                                                                               &#x27;اللتيا&#x27;,\n",
       "                                                                                               &#x27;اللتين&#x27;,\n",
       "                                                                                               &#x27;اللذان&#x27;,\n",
       "                                                                                               &#x27;اللذين&#x27;,\n",
       "                                                                                               &#x27;اللواتي&#x27;,\n",
       "                                                                                               &#x27;إلى&#x27;,\n",
       "                                                                                               &#x27;إليك&#x27;,\n",
       "                                                                                               &#x27;إليكم&#x27;,\n",
       "                                                                                               &#x27;إليكما&#x27;,\n",
       "                                                                                               &#x27;إليكن&#x27;,\n",
       "                                                                                               &#x27;أم&#x27;,\n",
       "                                                                                               &#x27;أما&#x27;,\n",
       "                                                                                               &#x27;أما&#x27;,\n",
       "                                                                                               &#x27;إما&#x27;,\n",
       "                                                                                               &#x27;أن&#x27;, ...])),\n",
       "                                                                  (&#x27;selectkbest&#x27;,\n",
       "                                                                   SelectKBest(k=100,\n",
       "                                                                               score_func=&lt;function chi2 at 0x000002C83AD74670&gt;)),\n",
       "                                                                  (&#x27;tfidftransformer&#x27;,\n",
       "                                                                   TfidfTransformer())]),\n",
       "                                                  &#x27;Review Text&#x27;)])),\n",
       "                (&#x27;classifier&#x27;,\n",
       "                 LogisticRegression(C=1, penalty=&#x27;l1&#x27;, random_state=42,\n",
       "                                    solver=&#x27;liblinear&#x27;))])</pre><b>Please rerun this cell to show the HTML repr or trust the notebook.</b></div><div class=\"sk-container\" hidden><div class=\"sk-item sk-dashed-wrapped\"><div class=\"sk-label-container\"><div class=\"sk-label sk-toggleable\"><input class=\"sk-toggleable__control sk-hidden--visually\" id=\"78e2f36c-eff5-4482-8944-ea19a1bea624\" type=\"checkbox\" ><label for=\"78e2f36c-eff5-4482-8944-ea19a1bea624\" class=\"sk-toggleable__label sk-toggleable__label-arrow\">Pipeline</label><div class=\"sk-toggleable__content\"><pre>Pipeline(steps=[(&#x27;preprocessor&#x27;,\n",
       "                 ColumnTransformer(transformers=[(&#x27;pipeline-1&#x27;,\n",
       "                                                  Pipeline(steps=[(&#x27;functiontransformer&#x27;,\n",
       "                                                                   FunctionTransformer(func=&lt;function logTransformer at 0x000002C8422BF280&gt;)),\n",
       "                                                                  (&#x27;simpleimputer&#x27;,\n",
       "                                                                   SimpleImputer(strategy=&#x27;median&#x27;)),\n",
       "                                                                  (&#x27;standardscaler&#x27;,\n",
       "                                                                   StandardScaler())]),\n",
       "                                                  [&#x27;Age&#x27;, &#x27;Rating&#x27;,\n",
       "                                                   &#x27;Positive Feedback Count&#x27;]),\n",
       "                                                 (&#x27;pipeline-2&#x27;,\n",
       "                                                  Pipeline(steps=[...\n",
       "                                                                                               &#x27;اللتان&#x27;,\n",
       "                                                                                               &#x27;اللتيا&#x27;,\n",
       "                                                                                               &#x27;اللتين&#x27;,\n",
       "                                                                                               &#x27;اللذان&#x27;,\n",
       "                                                                                               &#x27;اللذين&#x27;,\n",
       "                                                                                               &#x27;اللواتي&#x27;,\n",
       "                                                                                               &#x27;إلى&#x27;,\n",
       "                                                                                               &#x27;إليك&#x27;,\n",
       "                                                                                               &#x27;إليكم&#x27;,\n",
       "                                                                                               &#x27;إليكما&#x27;,\n",
       "                                                                                               &#x27;إليكن&#x27;,\n",
       "                                                                                               &#x27;أم&#x27;,\n",
       "                                                                                               &#x27;أما&#x27;,\n",
       "                                                                                               &#x27;أما&#x27;,\n",
       "                                                                                               &#x27;إما&#x27;,\n",
       "                                                                                               &#x27;أن&#x27;, ...])),\n",
       "                                                                  (&#x27;selectkbest&#x27;,\n",
       "                                                                   SelectKBest(k=100,\n",
       "                                                                               score_func=&lt;function chi2 at 0x000002C83AD74670&gt;)),\n",
       "                                                                  (&#x27;tfidftransformer&#x27;,\n",
       "                                                                   TfidfTransformer())]),\n",
       "                                                  &#x27;Review Text&#x27;)])),\n",
       "                (&#x27;classifier&#x27;,\n",
       "                 LogisticRegression(C=1, penalty=&#x27;l1&#x27;, random_state=42,\n",
       "                                    solver=&#x27;liblinear&#x27;))])</pre></div></div></div><div class=\"sk-serial\"><div class=\"sk-item sk-dashed-wrapped\"><div class=\"sk-label-container\"><div class=\"sk-label sk-toggleable\"><input class=\"sk-toggleable__control sk-hidden--visually\" id=\"f5e90e46-ca73-4c96-a55c-3eabb4bf66f0\" type=\"checkbox\" ><label for=\"f5e90e46-ca73-4c96-a55c-3eabb4bf66f0\" class=\"sk-toggleable__label sk-toggleable__label-arrow\">preprocessor: ColumnTransformer</label><div class=\"sk-toggleable__content\"><pre>ColumnTransformer(transformers=[(&#x27;pipeline-1&#x27;,\n",
       "                                 Pipeline(steps=[(&#x27;functiontransformer&#x27;,\n",
       "                                                  FunctionTransformer(func=&lt;function logTransformer at 0x000002C8422BF280&gt;)),\n",
       "                                                 (&#x27;simpleimputer&#x27;,\n",
       "                                                  SimpleImputer(strategy=&#x27;median&#x27;)),\n",
       "                                                 (&#x27;standardscaler&#x27;,\n",
       "                                                  StandardScaler())]),\n",
       "                                 [&#x27;Age&#x27;, &#x27;Rating&#x27;, &#x27;Positive Feedback Count&#x27;]),\n",
       "                                (&#x27;pipeline-2&#x27;,\n",
       "                                 Pipeline(steps=[(&#x27;simpleimputer&#x27;,\n",
       "                                                  SimpleImputer(f...\n",
       "                                                                              &#x27;إذا&#x27;,\n",
       "                                                                              &#x27;إذما&#x27;,\n",
       "                                                                              &#x27;إذن&#x27;,\n",
       "                                                                              &#x27;أف&#x27;,\n",
       "                                                                              &#x27;أقل&#x27;,\n",
       "                                                                              &#x27;أكثر&#x27;,\n",
       "                                                                              &#x27;ألا&#x27;,\n",
       "                                                                              &#x27;إلا&#x27;,\n",
       "                                                                              &#x27;التي&#x27;,\n",
       "                                                                              &#x27;الذي&#x27;,\n",
       "                                                                              &#x27;الذين&#x27;,\n",
       "                                                                              &#x27;اللاتي&#x27;,\n",
       "                                                                              &#x27;اللائي&#x27;,\n",
       "                                                                              &#x27;اللتان&#x27;,\n",
       "                                                                              &#x27;اللتيا&#x27;,\n",
       "                                                                              &#x27;اللتين&#x27;,\n",
       "                                                                              &#x27;اللذان&#x27;,\n",
       "                                                                              &#x27;اللذين&#x27;,\n",
       "                                                                              &#x27;اللواتي&#x27;,\n",
       "                                                                              &#x27;إلى&#x27;,\n",
       "                                                                              &#x27;إليك&#x27;,\n",
       "                                                                              &#x27;إليكم&#x27;,\n",
       "                                                                              &#x27;إليكما&#x27;,\n",
       "                                                                              &#x27;إليكن&#x27;,\n",
       "                                                                              &#x27;أم&#x27;,\n",
       "                                                                              &#x27;أما&#x27;,\n",
       "                                                                              &#x27;أما&#x27;,\n",
       "                                                                              &#x27;إما&#x27;,\n",
       "                                                                              &#x27;أن&#x27;, ...])),\n",
       "                                                 (&#x27;selectkbest&#x27;,\n",
       "                                                  SelectKBest(k=100,\n",
       "                                                              score_func=&lt;function chi2 at 0x000002C83AD74670&gt;)),\n",
       "                                                 (&#x27;tfidftransformer&#x27;,\n",
       "                                                  TfidfTransformer())]),\n",
       "                                 &#x27;Review Text&#x27;)])</pre></div></div></div><div class=\"sk-parallel\"><div class=\"sk-parallel-item\"><div class=\"sk-item\"><div class=\"sk-label-container\"><div class=\"sk-label sk-toggleable\"><input class=\"sk-toggleable__control sk-hidden--visually\" id=\"2e9a3a9c-74ff-40ff-88f4-91b75c0ee53b\" type=\"checkbox\" ><label for=\"2e9a3a9c-74ff-40ff-88f4-91b75c0ee53b\" class=\"sk-toggleable__label sk-toggleable__label-arrow\">pipeline-1</label><div class=\"sk-toggleable__content\"><pre>[&#x27;Age&#x27;, &#x27;Rating&#x27;, &#x27;Positive Feedback Count&#x27;]</pre></div></div></div><div class=\"sk-serial\"><div class=\"sk-item\"><div class=\"sk-serial\"><div class=\"sk-item\"><div class=\"sk-estimator sk-toggleable\"><input class=\"sk-toggleable__control sk-hidden--visually\" id=\"251fe9d9-926a-45e8-a53d-50ef83a1d3bb\" type=\"checkbox\" ><label for=\"251fe9d9-926a-45e8-a53d-50ef83a1d3bb\" class=\"sk-toggleable__label sk-toggleable__label-arrow\">FunctionTransformer</label><div class=\"sk-toggleable__content\"><pre>FunctionTransformer(func=&lt;function logTransformer at 0x000002C8422BF280&gt;)</pre></div></div></div><div class=\"sk-item\"><div class=\"sk-estimator sk-toggleable\"><input class=\"sk-toggleable__control sk-hidden--visually\" id=\"84a7ca87-9e26-4431-ac28-3a5e982248e6\" type=\"checkbox\" ><label for=\"84a7ca87-9e26-4431-ac28-3a5e982248e6\" class=\"sk-toggleable__label sk-toggleable__label-arrow\">SimpleImputer</label><div class=\"sk-toggleable__content\"><pre>SimpleImputer(strategy=&#x27;median&#x27;)</pre></div></div></div><div class=\"sk-item\"><div class=\"sk-estimator sk-toggleable\"><input class=\"sk-toggleable__control sk-hidden--visually\" id=\"308bfda8-a971-4217-8329-d8bd48670e12\" type=\"checkbox\" ><label for=\"308bfda8-a971-4217-8329-d8bd48670e12\" class=\"sk-toggleable__label sk-toggleable__label-arrow\">StandardScaler</label><div class=\"sk-toggleable__content\"><pre>StandardScaler()</pre></div></div></div></div></div></div></div></div><div class=\"sk-parallel-item\"><div class=\"sk-item\"><div class=\"sk-label-container\"><div class=\"sk-label sk-toggleable\"><input class=\"sk-toggleable__control sk-hidden--visually\" id=\"de3524ee-3de7-4ee6-b43b-e492881dbd1a\" type=\"checkbox\" ><label for=\"de3524ee-3de7-4ee6-b43b-e492881dbd1a\" class=\"sk-toggleable__label sk-toggleable__label-arrow\">pipeline-2</label><div class=\"sk-toggleable__content\"><pre>[&#x27;Division Name&#x27;, &#x27;Department Name&#x27;, &#x27;Class Name&#x27;]</pre></div></div></div><div class=\"sk-serial\"><div class=\"sk-item\"><div class=\"sk-serial\"><div class=\"sk-item\"><div class=\"sk-estimator sk-toggleable\"><input class=\"sk-toggleable__control sk-hidden--visually\" id=\"af174de8-7a58-449e-8f9f-5ff749adee0e\" type=\"checkbox\" ><label for=\"af174de8-7a58-449e-8f9f-5ff749adee0e\" class=\"sk-toggleable__label sk-toggleable__label-arrow\">SimpleImputer</label><div class=\"sk-toggleable__content\"><pre>SimpleImputer(fill_value=&#x27;Missing&#x27;, strategy=&#x27;constant&#x27;)</pre></div></div></div><div class=\"sk-item\"><div class=\"sk-estimator sk-toggleable\"><input class=\"sk-toggleable__control sk-hidden--visually\" id=\"9ae6a9a9-4dff-4110-9388-f2a4f4271f38\" type=\"checkbox\" ><label for=\"9ae6a9a9-4dff-4110-9388-f2a4f4271f38\" class=\"sk-toggleable__label sk-toggleable__label-arrow\">OneHotEncoder</label><div class=\"sk-toggleable__content\"><pre>OneHotEncoder(handle_unknown=&#x27;ignore&#x27;)</pre></div></div></div></div></div></div></div></div><div class=\"sk-parallel-item\"><div class=\"sk-item\"><div class=\"sk-label-container\"><div class=\"sk-label sk-toggleable\"><input class=\"sk-toggleable__control sk-hidden--visually\" id=\"497cd83b-0585-46e4-8a48-43faa287e94f\" type=\"checkbox\" ><label for=\"497cd83b-0585-46e4-8a48-43faa287e94f\" class=\"sk-toggleable__label sk-toggleable__label-arrow\">pipeline-3</label><div class=\"sk-toggleable__content\"><pre>[&#x27;Title&#x27;]</pre></div></div></div><div class=\"sk-serial\"><div class=\"sk-item\"><div class=\"sk-serial\"><div class=\"sk-item\"><div class=\"sk-estimator sk-toggleable\"><input class=\"sk-toggleable__control sk-hidden--visually\" id=\"8983b210-7b85-45d4-b68a-214ec9e6d381\" type=\"checkbox\" ><label for=\"8983b210-7b85-45d4-b68a-214ec9e6d381\" class=\"sk-toggleable__label sk-toggleable__label-arrow\">OneDWrapper</label><div class=\"sk-toggleable__content\"><pre>&lt;__main__.OneDWrapper object at 0x000002C8426EB550&gt;</pre></div></div></div><div class=\"sk-item\"><div class=\"sk-estimator sk-toggleable\"><input class=\"sk-toggleable__control sk-hidden--visually\" id=\"ed3e583b-c9be-4d8d-83ff-3bbf2b424715\" type=\"checkbox\" ><label for=\"ed3e583b-c9be-4d8d-83ff-3bbf2b424715\" class=\"sk-toggleable__label sk-toggleable__label-arrow\">CountVectorizer</label><div class=\"sk-toggleable__content\"><pre>CountVectorizer(stop_words=[&#x27;إذ&#x27;, &#x27;إذا&#x27;, &#x27;إذما&#x27;, &#x27;إذن&#x27;, &#x27;أف&#x27;, &#x27;أقل&#x27;, &#x27;أكثر&#x27;,\n",
       "                            &#x27;ألا&#x27;, &#x27;إلا&#x27;, &#x27;التي&#x27;, &#x27;الذي&#x27;, &#x27;الذين&#x27;, &#x27;اللاتي&#x27;,\n",
       "                            &#x27;اللائي&#x27;, &#x27;اللتان&#x27;, &#x27;اللتيا&#x27;, &#x27;اللتين&#x27;, &#x27;اللذان&#x27;,\n",
       "                            &#x27;اللذين&#x27;, &#x27;اللواتي&#x27;, &#x27;إلى&#x27;, &#x27;إليك&#x27;, &#x27;إليكم&#x27;,\n",
       "                            &#x27;إليكما&#x27;, &#x27;إليكن&#x27;, &#x27;أم&#x27;, &#x27;أما&#x27;, &#x27;أما&#x27;, &#x27;إما&#x27;, &#x27;أن&#x27;, ...])</pre></div></div></div><div class=\"sk-item\"><div class=\"sk-estimator sk-toggleable\"><input class=\"sk-toggleable__control sk-hidden--visually\" id=\"8f4c8bfa-1c1e-4802-9625-701bc1fce821\" type=\"checkbox\" ><label for=\"8f4c8bfa-1c1e-4802-9625-701bc1fce821\" class=\"sk-toggleable__label sk-toggleable__label-arrow\">SelectKBest</label><div class=\"sk-toggleable__content\"><pre>SelectKBest(k=20, score_func=&lt;function chi2 at 0x000002C83AD74670&gt;)</pre></div></div></div><div class=\"sk-item\"><div class=\"sk-estimator sk-toggleable\"><input class=\"sk-toggleable__control sk-hidden--visually\" id=\"dca9343c-c7e7-4560-b2bf-a728785222d4\" type=\"checkbox\" ><label for=\"dca9343c-c7e7-4560-b2bf-a728785222d4\" class=\"sk-toggleable__label sk-toggleable__label-arrow\">TfidfTransformer</label><div class=\"sk-toggleable__content\"><pre>TfidfTransformer()</pre></div></div></div></div></div></div></div></div><div class=\"sk-parallel-item\"><div class=\"sk-item\"><div class=\"sk-label-container\"><div class=\"sk-label sk-toggleable\"><input class=\"sk-toggleable__control sk-hidden--visually\" id=\"347069fd-1368-416e-96c4-4c603e77ab46\" type=\"checkbox\" ><label for=\"347069fd-1368-416e-96c4-4c603e77ab46\" class=\"sk-toggleable__label sk-toggleable__label-arrow\">pipeline-4</label><div class=\"sk-toggleable__content\"><pre>Review Text</pre></div></div></div><div class=\"sk-serial\"><div class=\"sk-item\"><div class=\"sk-serial\"><div class=\"sk-item\"><div class=\"sk-estimator sk-toggleable\"><input class=\"sk-toggleable__control sk-hidden--visually\" id=\"e662aaf6-bab0-4cab-bb74-20c0ede0134c\" type=\"checkbox\" ><label for=\"e662aaf6-bab0-4cab-bb74-20c0ede0134c\" class=\"sk-toggleable__label sk-toggleable__label-arrow\">CleanText</label><div class=\"sk-toggleable__content\"><pre>CleanText()</pre></div></div></div><div class=\"sk-item\"><div class=\"sk-estimator sk-toggleable\"><input class=\"sk-toggleable__control sk-hidden--visually\" id=\"2c0eb1d8-a801-4cd0-bc8e-851981870570\" type=\"checkbox\" ><label for=\"2c0eb1d8-a801-4cd0-bc8e-851981870570\" class=\"sk-toggleable__label sk-toggleable__label-arrow\">OneDWrapper</label><div class=\"sk-toggleable__content\"><pre>&lt;__main__.OneDWrapper object at 0x000002C8426EB7F0&gt;</pre></div></div></div><div class=\"sk-item\"><div class=\"sk-estimator sk-toggleable\"><input class=\"sk-toggleable__control sk-hidden--visually\" id=\"cc6758b4-6c8e-4b4e-b8d1-1d58883df5dc\" type=\"checkbox\" ><label for=\"cc6758b4-6c8e-4b4e-b8d1-1d58883df5dc\" class=\"sk-toggleable__label sk-toggleable__label-arrow\">CountVectorizer</label><div class=\"sk-toggleable__content\"><pre>CountVectorizer(stop_words=[&#x27;إذ&#x27;, &#x27;إذا&#x27;, &#x27;إذما&#x27;, &#x27;إذن&#x27;, &#x27;أف&#x27;, &#x27;أقل&#x27;, &#x27;أكثر&#x27;,\n",
       "                            &#x27;ألا&#x27;, &#x27;إلا&#x27;, &#x27;التي&#x27;, &#x27;الذي&#x27;, &#x27;الذين&#x27;, &#x27;اللاتي&#x27;,\n",
       "                            &#x27;اللائي&#x27;, &#x27;اللتان&#x27;, &#x27;اللتيا&#x27;, &#x27;اللتين&#x27;, &#x27;اللذان&#x27;,\n",
       "                            &#x27;اللذين&#x27;, &#x27;اللواتي&#x27;, &#x27;إلى&#x27;, &#x27;إليك&#x27;, &#x27;إليكم&#x27;,\n",
       "                            &#x27;إليكما&#x27;, &#x27;إليكن&#x27;, &#x27;أم&#x27;, &#x27;أما&#x27;, &#x27;أما&#x27;, &#x27;إما&#x27;, &#x27;أن&#x27;, ...])</pre></div></div></div><div class=\"sk-item\"><div class=\"sk-estimator sk-toggleable\"><input class=\"sk-toggleable__control sk-hidden--visually\" id=\"badff5ea-0dba-45da-b233-a4da13e677e1\" type=\"checkbox\" ><label for=\"badff5ea-0dba-45da-b233-a4da13e677e1\" class=\"sk-toggleable__label sk-toggleable__label-arrow\">SelectKBest</label><div class=\"sk-toggleable__content\"><pre>SelectKBest(k=100, score_func=&lt;function chi2 at 0x000002C83AD74670&gt;)</pre></div></div></div><div class=\"sk-item\"><div class=\"sk-estimator sk-toggleable\"><input class=\"sk-toggleable__control sk-hidden--visually\" id=\"e9e7ebbb-5fe5-428e-9426-34e84dbcfc97\" type=\"checkbox\" ><label for=\"e9e7ebbb-5fe5-428e-9426-34e84dbcfc97\" class=\"sk-toggleable__label sk-toggleable__label-arrow\">TfidfTransformer</label><div class=\"sk-toggleable__content\"><pre>TfidfTransformer()</pre></div></div></div></div></div></div></div></div></div></div><div class=\"sk-item\"><div class=\"sk-estimator sk-toggleable\"><input class=\"sk-toggleable__control sk-hidden--visually\" id=\"20a2335a-2d7c-4cac-bb40-5b9d0f7463e5\" type=\"checkbox\" ><label for=\"20a2335a-2d7c-4cac-bb40-5b9d0f7463e5\" class=\"sk-toggleable__label sk-toggleable__label-arrow\">LogisticRegression</label><div class=\"sk-toggleable__content\"><pre>LogisticRegression(C=1, penalty=&#x27;l1&#x27;, random_state=42, solver=&#x27;liblinear&#x27;)</pre></div></div></div></div></div></div></div>"
      ],
      "text/plain": [
       "Pipeline(steps=[('preprocessor',\n",
       "                 ColumnTransformer(transformers=[('pipeline-1',\n",
       "                                                  Pipeline(steps=[('functiontransformer',\n",
       "                                                                   FunctionTransformer(func=<function logTransformer at 0x000002C8422BF280>)),\n",
       "                                                                  ('simpleimputer',\n",
       "                                                                   SimpleImputer(strategy='median')),\n",
       "                                                                  ('standardscaler',\n",
       "                                                                   StandardScaler())]),\n",
       "                                                  ['Age', 'Rating',\n",
       "                                                   'Positive Feedback Count']),\n",
       "                                                 ('pipeline-2',\n",
       "                                                  Pipeline(steps=[...\n",
       "                                                                                               'اللتان',\n",
       "                                                                                               'اللتيا',\n",
       "                                                                                               'اللتين',\n",
       "                                                                                               'اللذان',\n",
       "                                                                                               'اللذين',\n",
       "                                                                                               'اللواتي',\n",
       "                                                                                               'إلى',\n",
       "                                                                                               'إليك',\n",
       "                                                                                               'إليكم',\n",
       "                                                                                               'إليكما',\n",
       "                                                                                               'إليكن',\n",
       "                                                                                               'أم',\n",
       "                                                                                               'أما',\n",
       "                                                                                               'أما',\n",
       "                                                                                               'إما',\n",
       "                                                                                               'أن', ...])),\n",
       "                                                                  ('selectkbest',\n",
       "                                                                   SelectKBest(k=100,\n",
       "                                                                               score_func=<function chi2 at 0x000002C83AD74670>)),\n",
       "                                                                  ('tfidftransformer',\n",
       "                                                                   TfidfTransformer())]),\n",
       "                                                  'Review Text')])),\n",
       "                ('classifier',\n",
       "                 LogisticRegression(C=1, penalty='l1', random_state=42,\n",
       "                                    solver='liblinear'))])"
      ]
     },
     "execution_count": 11,
     "metadata": {},
     "output_type": "execute_result"
    }
   ],
   "source": [
    "from sklearn import set_config\n",
    "set_config(display=\"diagram\")\n",
    "estimator"
   ]
  },
  {
   "cell_type": "code",
   "execution_count": 12,
   "metadata": {
    "scrolled": true
   },
   "outputs": [
    {
     "data": {
      "text/plain": [
       "['x0_General',\n",
       " 'x0_General Petite',\n",
       " 'x0_Initmates',\n",
       " 'x0_Missing',\n",
       " 'x1_Bottoms',\n",
       " 'x1_Dresses',\n",
       " 'x1_Intimate',\n",
       " 'x1_Jackets',\n",
       " 'x1_Missing',\n",
       " 'x1_Tops',\n",
       " 'x1_Trend',\n",
       " 'x2_Blouses',\n",
       " 'x2_Dresses',\n",
       " 'x2_Fine gauge',\n",
       " 'x2_Intimates',\n",
       " 'x2_Jackets',\n",
       " 'x2_Jeans',\n",
       " 'x2_Knits',\n",
       " 'x2_Layering',\n",
       " 'x2_Legwear',\n",
       " 'x2_Lounge',\n",
       " 'x2_Missing',\n",
       " 'x2_Outerwear',\n",
       " 'x2_Pants',\n",
       " 'x2_Shorts',\n",
       " 'x2_Skirts',\n",
       " 'x2_Sleep',\n",
       " 'x2_Sweaters',\n",
       " 'x2_Swim',\n",
       " 'x2_Trend']"
      ]
     },
     "execution_count": 12,
     "metadata": {},
     "output_type": "execute_result"
    }
   ],
   "source": [
    "num_column = ['Age',  'Rating', 'Positive Feedback Count' ]\n",
    "txt_column = [ 'Title', 'Review Text'] \n",
    "#cat_column after one hot encoding, name is changed \n",
    "cat_column = ['Division Name', 'Department Name', 'Class Name']\n",
    "cat_column_ohe = list( estimator.named_steps['preprocessor'].named_transformers_['pipeline-2'].named_steps['onehotencoder'].get_feature_names())\n",
    "cat_column_ohe\n"
   ]
  },
  {
   "cell_type": "code",
   "execution_count": 13,
   "metadata": {},
   "outputs": [
    {
     "data": {
      "text/plain": [
       "{'onedwrapper': <__main__.OneDWrapper at 0x2c8426f3340>,\n",
       " 'countvectorizer': CountVectorizer(stop_words=['إذ', 'إذا', 'إذما', 'إذن', 'أف', 'أقل', 'أكثر',\n",
       "                             'ألا', 'إلا', 'التي', 'الذي', 'الذين', 'اللاتي',\n",
       "                             'اللائي', 'اللتان', 'اللتيا', 'اللتين', 'اللذان',\n",
       "                             'اللذين', 'اللواتي', 'إلى', 'إليك', 'إليكم',\n",
       "                             'إليكما', 'إليكن', 'أم', 'أما', 'أما', 'إما', 'أن', ...]),\n",
       " 'selectkbest': SelectKBest(k=20, score_func=<function chi2 at 0x000002C83AD74670>),\n",
       " 'tfidftransformer': TfidfTransformer()}"
      ]
     },
     "execution_count": 13,
     "metadata": {},
     "output_type": "execute_result"
    }
   ],
   "source": [
    "estimator.named_steps['preprocessor'].named_transformers_['pipeline-3'].named_steps"
   ]
  },
  {
   "cell_type": "code",
   "execution_count": 14,
   "metadata": {
    "scrolled": true
   },
   "outputs": [
    {
     "data": {
      "text/plain": [
       "['title_boxy',\n",
       " 'title_comfortable',\n",
       " 'title_comfy',\n",
       " 'title_disappointed',\n",
       " 'title_disappointing',\n",
       " 'title_dress',\n",
       " 'title_fall',\n",
       " 'title_fun',\n",
       " 'title_gorgeous',\n",
       " 'title_great',\n",
       " 'title_love',\n",
       " 'title_perfect',\n",
       " 'title_poor',\n",
       " 'title_quality',\n",
       " 'title_soft',\n",
       " 'title_summer',\n",
       " 'title_tee',\n",
       " 'title_unflattering',\n",
       " 'title_unique',\n",
       " 'title_wanted']"
      ]
     },
     "execution_count": 14,
     "metadata": {},
     "output_type": "execute_result"
    }
   ],
   "source": [
    "#pipeline 3 handle 20 title text column\n",
    "title_word_list =[]\n",
    "for i in range(20):      #select 20 important word\n",
    "    ix = estimator.named_steps['preprocessor'].named_transformers_['pipeline-3'].named_steps['selectkbest'].get_support(indices=True)[i]\n",
    "    word= estimator.named_steps['preprocessor'].named_transformers_['pipeline-3'].named_steps['countvectorizer'].get_feature_names()[ix]\n",
    "    title_word_list.append(word)\n",
    "title_word_list = ['title_' + x for x in title_word_list] #add prefix to tell difference\n",
    "title_word_list"
   ]
  },
  {
   "cell_type": "code",
   "execution_count": 15,
   "metadata": {},
   "outputs": [
    {
     "data": {
      "text/plain": [
       "20"
      ]
     },
     "execution_count": 15,
     "metadata": {},
     "output_type": "execute_result"
    }
   ],
   "source": [
    "len(title_word_list)"
   ]
  },
  {
   "cell_type": "code",
   "execution_count": 16,
   "metadata": {
    "scrolled": false
   },
   "outputs": [
    {
     "data": {
      "text/plain": [
       "['review_add',\n",
       " 'review_amaz',\n",
       " 'review_appear',\n",
       " 'review_arriv',\n",
       " 'review_aw',\n",
       " 'review_awkward',\n",
       " 'review_back',\n",
       " 'review_bad',\n",
       " 'review_bit',\n",
       " 'review_black',\n",
       " 'review_boot',\n",
       " 'review_bought',\n",
       " 'review_boxi',\n",
       " 'review_casual',\n",
       " 'review_cheap',\n",
       " 'review_classic',\n",
       " 'review_comfi',\n",
       " 'review_comfort',\n",
       " 'review_complet',\n",
       " 'review_compliment',\n",
       " 'review_detail',\n",
       " 'review_disappoint',\n",
       " 'review_easi',\n",
       " 'review_enough',\n",
       " 'review_even',\n",
       " 'review_excit',\n",
       " 'review_fabric',\n",
       " 'review_fall',\n",
       " 'review_felt',\n",
       " 'review_feminin',\n",
       " 'review_fit',\n",
       " 'review_fun',\n",
       " 'review_glad',\n",
       " 'review_got',\n",
       " 'review_great',\n",
       " 'review_green',\n",
       " 'review_happi',\n",
       " 'review_heel',\n",
       " 'review_highli',\n",
       " 'review_horribl',\n",
       " 'review_howev',\n",
       " 'review_huge',\n",
       " 'review_hung',\n",
       " 'review_idea',\n",
       " 'review_jacket',\n",
       " 'review_jean',\n",
       " 'review_like',\n",
       " 'review_littl',\n",
       " 'review_look',\n",
       " 'review_love',\n",
       " 'review_made',\n",
       " 'review_mani',\n",
       " 'review_materi',\n",
       " 'review_matern',\n",
       " 'review_mayb',\n",
       " 'review_model',\n",
       " 'review_much',\n",
       " 'review_navi',\n",
       " 'review_nice',\n",
       " 'review_noth',\n",
       " 'review_odd',\n",
       " 'review_pair',\n",
       " 'review_perfect',\n",
       " 'review_perfectli',\n",
       " 'review_photo',\n",
       " 'review_pictur',\n",
       " 'review_poor',\n",
       " 'review_poorli',\n",
       " 'review_purchas',\n",
       " 'review_qualiti',\n",
       " 'review_return',\n",
       " 'review_ridicul',\n",
       " 'review_sack',\n",
       " 'review_sad',\n",
       " 'review_sadli',\n",
       " 'review_seam',\n",
       " 'review_season',\n",
       " 'review_seem',\n",
       " 'review_shape',\n",
       " 'review_shapeless',\n",
       " 'review_size',\n",
       " 'review_soft',\n",
       " 'review_stiff',\n",
       " 'review_strang',\n",
       " 'review_summer',\n",
       " 'review_terribl',\n",
       " 'review_thin',\n",
       " 'review_thought',\n",
       " 'review_true',\n",
       " 'review_unflatt',\n",
       " 'review_unfortun',\n",
       " 'review_uniqu',\n",
       " 'review_versatil',\n",
       " 'review_way',\n",
       " 'review_wear',\n",
       " 'review_weird',\n",
       " 'review_wide',\n",
       " 'review_worn',\n",
       " 'review_would',\n",
       " 'review_wrong']"
      ]
     },
     "execution_count": 16,
     "metadata": {},
     "output_type": "execute_result"
    }
   ],
   "source": [
    "#pipeline 4 handle review text column\n",
    "review_word_list =[]\n",
    "for i in range(100):      #select 100 important word\n",
    "    ix = estimator.named_steps['preprocessor'].named_transformers_['pipeline-4'].named_steps['selectkbest'].get_support(indices=True)[i]\n",
    "    word= estimator.named_steps['preprocessor'].named_transformers_['pipeline-4'].named_steps['countvectorizer'].get_feature_names()[ix]\n",
    "    review_word_list.append(word)\n",
    "review_word_list = ['review_' + x for x in review_word_list] #add prefix to tell difference\n",
    "review_word_list"
   ]
  },
  {
   "cell_type": "code",
   "execution_count": 17,
   "metadata": {},
   "outputs": [
    {
     "data": {
      "text/plain": [
       "153"
      ]
     },
     "execution_count": 17,
     "metadata": {},
     "output_type": "execute_result"
    }
   ],
   "source": [
    "column_name = num_column + cat_column_ohe + title_word_list + review_word_list\n",
    "len(column_name)"
   ]
  },
  {
   "cell_type": "code",
   "execution_count": 18,
   "metadata": {
    "scrolled": true
   },
   "outputs": [],
   "source": [
    "df_featureimportance = pd.DataFrame(list(zip(column_name, model.coef_.ravel())), columns = ['name', 'coef']).sort_values(by=['coef'], ascending=False)"
   ]
  },
  {
   "cell_type": "code",
   "execution_count": 19,
   "metadata": {},
   "outputs": [
    {
     "data": {
      "text/html": [
       "<div>\n",
       "<style scoped>\n",
       "    .dataframe tbody tr th:only-of-type {\n",
       "        vertical-align: middle;\n",
       "    }\n",
       "\n",
       "    .dataframe tbody tr th {\n",
       "        vertical-align: top;\n",
       "    }\n",
       "\n",
       "    .dataframe thead th {\n",
       "        text-align: right;\n",
       "    }\n",
       "</style>\n",
       "<table border=\"1\" class=\"dataframe\">\n",
       "  <thead>\n",
       "    <tr style=\"text-align: right;\">\n",
       "      <th></th>\n",
       "      <th>name</th>\n",
       "      <th>coef</th>\n",
       "    </tr>\n",
       "  </thead>\n",
       "  <tbody>\n",
       "    <tr>\n",
       "      <th>1</th>\n",
       "      <td>Rating</td>\n",
       "      <td>4.875678</td>\n",
       "    </tr>\n",
       "    <tr>\n",
       "      <th>51</th>\n",
       "      <td>title_unique</td>\n",
       "      <td>1.906759</td>\n",
       "    </tr>\n",
       "    <tr>\n",
       "      <th>40</th>\n",
       "      <td>title_fun</td>\n",
       "      <td>1.738824</td>\n",
       "    </tr>\n",
       "    <tr>\n",
       "      <th>49</th>\n",
       "      <td>title_tee</td>\n",
       "      <td>1.214497</td>\n",
       "    </tr>\n",
       "    <tr>\n",
       "      <th>66</th>\n",
       "      <td>review_casual</td>\n",
       "      <td>1.145064</td>\n",
       "    </tr>\n",
       "    <tr>\n",
       "      <th>88</th>\n",
       "      <td>review_green</td>\n",
       "      <td>1.099194</td>\n",
       "    </tr>\n",
       "    <tr>\n",
       "      <th>133</th>\n",
       "      <td>review_size</td>\n",
       "      <td>0.986468</td>\n",
       "    </tr>\n",
       "    <tr>\n",
       "      <th>86</th>\n",
       "      <td>review_got</td>\n",
       "      <td>0.913488</td>\n",
       "    </tr>\n",
       "    <tr>\n",
       "      <th>97</th>\n",
       "      <td>review_jacket</td>\n",
       "      <td>0.877559</td>\n",
       "    </tr>\n",
       "    <tr>\n",
       "      <th>47</th>\n",
       "      <td>title_soft</td>\n",
       "      <td>0.874473</td>\n",
       "    </tr>\n",
       "  </tbody>\n",
       "</table>\n",
       "</div>"
      ],
      "text/plain": [
       "              name      coef\n",
       "1           Rating  4.875678\n",
       "51    title_unique  1.906759\n",
       "40       title_fun  1.738824\n",
       "49       title_tee  1.214497\n",
       "66   review_casual  1.145064\n",
       "88    review_green  1.099194\n",
       "133    review_size  0.986468\n",
       "86      review_got  0.913488\n",
       "97   review_jacket  0.877559\n",
       "47      title_soft  0.874473"
      ]
     },
     "execution_count": 19,
     "metadata": {},
     "output_type": "execute_result"
    }
   ],
   "source": [
    "df_featureimportance.head(10)"
   ]
  },
  {
   "cell_type": "code",
   "execution_count": 54,
   "metadata": {
    "scrolled": true
   },
   "outputs": [
    {
     "data": {
      "text/html": [
       "<div>\n",
       "<style scoped>\n",
       "    .dataframe tbody tr th:only-of-type {\n",
       "        vertical-align: middle;\n",
       "    }\n",
       "\n",
       "    .dataframe tbody tr th {\n",
       "        vertical-align: top;\n",
       "    }\n",
       "\n",
       "    .dataframe thead th {\n",
       "        text-align: right;\n",
       "    }\n",
       "</style>\n",
       "<table border=\"1\" class=\"dataframe\">\n",
       "  <thead>\n",
       "    <tr style=\"text-align: right;\">\n",
       "      <th></th>\n",
       "      <th>name</th>\n",
       "      <th>coef</th>\n",
       "    </tr>\n",
       "  </thead>\n",
       "  <tbody>\n",
       "    <tr>\n",
       "      <th>59</th>\n",
       "      <td>review_back</td>\n",
       "      <td>-0.934044</td>\n",
       "    </tr>\n",
       "    <tr>\n",
       "      <th>94</th>\n",
       "      <td>review_huge</td>\n",
       "      <td>-1.106909</td>\n",
       "    </tr>\n",
       "    <tr>\n",
       "      <th>101</th>\n",
       "      <td>review_look</td>\n",
       "      <td>-1.196203</td>\n",
       "    </tr>\n",
       "    <tr>\n",
       "      <th>74</th>\n",
       "      <td>review_disappoint</td>\n",
       "      <td>-1.241194</td>\n",
       "    </tr>\n",
       "    <tr>\n",
       "      <th>123</th>\n",
       "      <td>review_return</td>\n",
       "      <td>-1.345431</td>\n",
       "    </tr>\n",
       "    <tr>\n",
       "      <th>106</th>\n",
       "      <td>review_matern</td>\n",
       "      <td>-1.496511</td>\n",
       "    </tr>\n",
       "    <tr>\n",
       "      <th>130</th>\n",
       "      <td>review_seem</td>\n",
       "      <td>-1.549178</td>\n",
       "    </tr>\n",
       "    <tr>\n",
       "      <th>127</th>\n",
       "      <td>review_sadli</td>\n",
       "      <td>-1.824847</td>\n",
       "    </tr>\n",
       "    <tr>\n",
       "      <th>52</th>\n",
       "      <td>title_wanted</td>\n",
       "      <td>-2.378101</td>\n",
       "    </tr>\n",
       "    <tr>\n",
       "      <th>36</th>\n",
       "      <td>title_disappointed</td>\n",
       "      <td>-2.546394</td>\n",
       "    </tr>\n",
       "  </tbody>\n",
       "</table>\n",
       "</div>"
      ],
      "text/plain": [
       "                   name      coef\n",
       "59          review_back -0.934044\n",
       "94          review_huge -1.106909\n",
       "101         review_look -1.196203\n",
       "74    review_disappoint -1.241194\n",
       "123       review_return -1.345431\n",
       "106       review_matern -1.496511\n",
       "130         review_seem -1.549178\n",
       "127        review_sadli -1.824847\n",
       "52         title_wanted -2.378101\n",
       "36   title_disappointed -2.546394"
      ]
     },
     "execution_count": 54,
     "metadata": {},
     "output_type": "execute_result"
    }
   ],
   "source": [
    "df_featureimportance.tail(10)"
   ]
  },
  {
   "cell_type": "code",
   "execution_count": 61,
   "metadata": {},
   "outputs": [
    {
     "data": {
      "text/plain": [
       "Text(0.5, 1.0, 'Top 20 important features ')"
      ]
     },
     "execution_count": 61,
     "metadata": {},
     "output_type": "execute_result"
    },
    {
     "data": {
      "image/png": "[encoded data removed]",
      "text/plain": [
       "<Figure size 576x432 with 1 Axes>"
      ]
     },
     "metadata": {
      "needs_background": "light"
     },
     "output_type": "display_data"
    }
   ],
   "source": [
    "#show top10 and bottom 10 in  chart\n",
    "df_chart = pd.concat([df_featureimportance.head(10),df_featureimportance.tail(10)])\n",
    "fig, ax = plt.subplots()\n",
    "fig.set_size_inches(8, 6)\n",
    "\n",
    "# Example data\n",
    "y_pos = np.arange(len(df_chart.coef))\n",
    "ax.barh(y_pos, df_chart.coef,  align='center' , color=np.where(df_chart.coef < 0, 'red', 'blue'),)\n",
    "ax.set_yticks(y_pos)\n",
    "ax.set_yticklabels(df_chart.name)\n",
    "ax.set_title('Top 20 important features ')\n",
    " "
   ]
  },
  {
   "cell_type": "code",
   "execution_count": null,
   "metadata": {},
   "outputs": [],
   "source": [
    "#permutation importance "
   ]
  },
  {
   "cell_type": "code",
   "execution_count": 22,
   "metadata": {},
   "outputs": [],
   "source": [
    "#above are using the data in the model, now need the data for calculation\n",
    "df = pd.read_csv (r'C:\\Users\\Wenlei\\Desktop\\blog51\\Womens Clothing E-Commerce Reviews.csv').drop(columns = 'Unnamed: 0')\n",
    "df1_undersample = df[df['Recommended IND']==1].sample(4172, random_state = 42)\n",
    "df_undersample  = pd.concat([df1_undersample, df[df['Recommended IND']==0]])\n",
    "X =  df_undersample.drop(['Clothing ID','Recommended IND'], axis =1)\n",
    "y =  df_undersample['Recommended IND']\n",
    "X_train, X_test, y_train, y_test = train_test_split( X, y, test_size=0.2, random_state=42)"
   ]
  },
  {
   "cell_type": "code",
   "execution_count": 26,
   "metadata": {},
   "outputs": [
    {
     "data": {
      "text/plain": [
       "0.9396135265700483"
      ]
     },
     "execution_count": 26,
     "metadata": {},
     "output_type": "execute_result"
    }
   ],
   "source": [
    "from sklearn.metrics import f1_score\n",
    "y_pred = gs.predict(X_test)\n",
    "full_f1_score = f1_score(y_test, y_pred)\n",
    "full_f1_score"
   ]
  },
  {
   "cell_type": "code",
   "execution_count": 39,
   "metadata": {
    "scrolled": true
   },
   "outputs": [
    {
     "data": {
      "text/html": [
       "<div>\n",
       "<style scoped>\n",
       "    .dataframe tbody tr th:only-of-type {\n",
       "        vertical-align: middle;\n",
       "    }\n",
       "\n",
       "    .dataframe tbody tr th {\n",
       "        vertical-align: top;\n",
       "    }\n",
       "\n",
       "    .dataframe thead th {\n",
       "        text-align: right;\n",
       "    }\n",
       "</style>\n",
       "<table border=\"1\" class=\"dataframe\">\n",
       "  <thead>\n",
       "    <tr style=\"text-align: right;\">\n",
       "      <th></th>\n",
       "      <th>pred</th>\n",
       "      <th>score</th>\n",
       "    </tr>\n",
       "  </thead>\n",
       "  <tbody>\n",
       "    <tr>\n",
       "      <th>3</th>\n",
       "      <td>Rating</td>\n",
       "      <td>0.423446</td>\n",
       "    </tr>\n",
       "    <tr>\n",
       "      <th>2</th>\n",
       "      <td>Review Text</td>\n",
       "      <td>0.003469</td>\n",
       "    </tr>\n",
       "    <tr>\n",
       "      <th>1</th>\n",
       "      <td>Title</td>\n",
       "      <td>0.003392</td>\n",
       "    </tr>\n",
       "    <tr>\n",
       "      <th>7</th>\n",
       "      <td>Class Name</td>\n",
       "      <td>0.000567</td>\n",
       "    </tr>\n",
       "    <tr>\n",
       "      <th>0</th>\n",
       "      <td>Age</td>\n",
       "      <td>0.000000</td>\n",
       "    </tr>\n",
       "    <tr>\n",
       "      <th>4</th>\n",
       "      <td>Positive Feedback Count</td>\n",
       "      <td>0.000000</td>\n",
       "    </tr>\n",
       "    <tr>\n",
       "      <th>5</th>\n",
       "      <td>Division Name</td>\n",
       "      <td>0.000000</td>\n",
       "    </tr>\n",
       "    <tr>\n",
       "      <th>6</th>\n",
       "      <td>Department Name</td>\n",
       "      <td>0.000000</td>\n",
       "    </tr>\n",
       "  </tbody>\n",
       "</table>\n",
       "</div>"
      ],
      "text/plain": [
       "                      pred     score\n",
       "3                   Rating  0.423446\n",
       "2              Review Text  0.003469\n",
       "1                    Title  0.003392\n",
       "7               Class Name  0.000567\n",
       "0                      Age  0.000000\n",
       "4  Positive Feedback Count  0.000000\n",
       "5            Division Name  0.000000\n",
       "6          Department Name  0.000000"
      ]
     },
     "execution_count": 39,
     "metadata": {},
     "output_type": "execute_result"
    }
   ],
   "source": [
    "#https://towardsdatascience.com/from-scratch-permutation-feature-importance-for-ml-interpretability-b60f7d5d1fe9\n",
    "\n",
    "# Initialize a list of results\n",
    "results = []\n",
    "# Iterate through each predictor\n",
    "for predictor in X_test:\n",
    "    \n",
    "    # Create a copy of X_test\n",
    "    X_test_copy = X_test.copy()\n",
    "    \n",
    "    # Scramble the values of the given predictor\n",
    "    X_test_copy[predictor] = X_test[predictor].sample(frac=1).values  #shuffle\n",
    "    \n",
    "    # Calculate the new RMSE\n",
    "    new_f1_score = f1_score(y_test,gs.predict(X_test_copy))\n",
    "    \n",
    "    # Append the increase in MSE to the list of results \n",
    "    results.append({'pred': predictor,\n",
    "                    'score': full_f1_score - new_f1_score })\n",
    "# Convert to a pandas dataframe and rank the predictors by score\n",
    "resultsdf = pd.DataFrame(results).sort_values(by = 'score',\n",
    "                                              ascending = False)\n",
    "resultsdf"
   ]
  },
  {
   "cell_type": "code",
   "execution_count": null,
   "metadata": {},
   "outputs": [],
   "source": [
    "#"
   ]
  },
  {
   "cell_type": "code",
   "execution_count": 57,
   "metadata": {
    "scrolled": true
   },
   "outputs": [
    {
     "data": {
      "text/plain": [
       "\"\\nimport re\\n#create a mapping dictionary\\ncolumn_filter_mapping  = {'Age':'Age',  'Rating':'Rating', 'Positive Feedback Count':'Positive Feedback Count',\\n                            'Division Name':'x0_.', 'Department Name':'x1_.', 'Class Name':'x2_.', \\n                          'Title':'title_.', 'Review Text':'review_.' } \\ncolumn_group_mapping = {}\\n\\nfor k, v in column_filter_mapping.items():\\n    p = re.compile(v) #loop through the pattern\\n    l= [ s for s in column_name if p.match(s) ] #get list of column satisfied the pattern\\n    column_group_mapping.update({k:l}) #add to new dict\\ncolumn_group_mapping\\n\\n# Initialize a list of results\\nresults = []\\n# Iterate through each predictor\\nfor predictor, columns in column_group_mapping.items():\\n    \\n    # Create a copy of X_test\\n    X_test_copy = X_test.copy()\\n    \\n    # Scramble the values of the given predictor\\n    X_test_copy[columns] = X_test[columns].sample(frac=1).values  #shaffle\\n    \\n    # Calculate the new RMSE\\n    new_f1_score = f1_score(y_test,gs.predict(X_test_copy))\\n    \\n    # Append the increase in MSE to the list of results \\n    results.append({'pred': predictor,\\n                    'score': full_f1_score - new_f1_score })\\n# Convert to a pandas dataframe and rank the predictors by score\\nresultsdf = pd.DataFrame(results).sort_values(by = 'score',\\n                                              ascending = False)\\nresultsdf \\n\""
      ]
     },
     "execution_count": 57,
     "metadata": {},
     "output_type": "execute_result"
    }
   ],
   "source": [
    "'''  Test code\n",
    "import re\n",
    "#create a mapping dictionary\n",
    "column_filter_mapping  = {'Age':'Age',  'Rating':'Rating', 'Positive Feedback Count':'Positive Feedback Count',\n",
    "                            'Division Name':'x0_.', 'Department Name':'x1_.', 'Class Name':'x2_.', \n",
    "                          'Title':'title_.', 'Review Text':'review_.' } \n",
    "column_group_mapping = {}\n",
    "\n",
    "for k, v in column_filter_mapping.items():\n",
    "    p = re.compile(v) #loop through the pattern\n",
    "    l= [ s for s in column_name if p.match(s) ] #get list of column satisfied the pattern\n",
    "    column_group_mapping.update({k:l}) #add to new dict\n",
    "column_group_mapping\n",
    "\n",
    "# Initialize a list of results\n",
    "results = []\n",
    "# Iterate through each predictor\n",
    "for predictor, columns in column_group_mapping.items():\n",
    "    \n",
    "    # Create a copy of X_test\n",
    "    X_test_copy = X_test.copy()\n",
    "    \n",
    "    # Scramble the values of the given predictor\n",
    "    X_test_copy[columns] = X_test[columns].sample(frac=1).values  #shaffle\n",
    "    \n",
    "    # Calculate the new RMSE\n",
    "    new_f1_score = f1_score(y_test,gs.predict(X_test_copy))\n",
    "    \n",
    "    # Append the increase in MSE to the list of results \n",
    "    results.append({'pred': predictor,\n",
    "                    'score': full_f1_score - new_f1_score })\n",
    "# Convert to a pandas dataframe and rank the predictors by score\n",
    "resultsdf = pd.DataFrame(results).sort_values(by = 'score',\n",
    "                                              ascending = False)\n",
    "resultsdf \n",
    "'''"
   ]
  },
  {
   "cell_type": "code",
   "execution_count": 27,
   "metadata": {},
   "outputs": [],
   "source": [
    "# Plot learning curve\n",
    "def plot_learning_curve(estimator, title, X, y, ylim=None, cv=None,\n",
    "                        n_jobs=1, train_sizes=np.linspace(.1, 1.0, 5)):\n",
    "    plt.figure()\n",
    "    plt.title(title)\n",
    "    if ylim is not None:\n",
    "        plt.ylim(*ylim)\n",
    "    plt.xlabel(\"Training examples\")\n",
    "    plt.ylabel(\"Score\")\n",
    "    train_sizes, train_scores, test_scores = learning_curve(\n",
    "        estimator, X, y, cv=cv, n_jobs=n_jobs, train_sizes=train_sizes)\n",
    "    train_scores_mean = np.mean(train_scores, axis=1)\n",
    "    train_scores_std = np.std(train_scores, axis=1)\n",
    "    test_scores_mean = np.mean(test_scores, axis=1)\n",
    "    test_scores_std = np.std(test_scores, axis=1)\n",
    "    plt.grid()\n",
    "\n",
    "    plt.fill_between(train_sizes, train_scores_mean - train_scores_std,\n",
    "                     train_scores_mean + train_scores_std, alpha=0.1,\n",
    "                     color=\"r\")\n",
    "    plt.fill_between(train_sizes, test_scores_mean - test_scores_std,\n",
    "                     test_scores_mean + test_scores_std, alpha=0.1, color=\"g\")\n",
    "    plt.plot(train_sizes, train_scores_mean, 'o-', color=\"r\",\n",
    "             label=\"Training score\")\n",
    "    plt.plot(train_sizes, test_scores_mean, 'o-', color=\"g\",\n",
    "             label=\"Validation score\")\n",
    "\n",
    "    plt.legend(loc=\"best\")\n",
    "    return plt"
   ]
  },
  {
   "cell_type": "code",
   "execution_count": 62,
   "metadata": {},
   "outputs": [
    {
     "data": {
      "image/png": "[encoded data removed]",
      "text/plain": [
       "<Figure size 432x288 with 1 Axes>"
      ]
     },
     "metadata": {
      "needs_background": "light"
     },
     "output_type": "display_data"
    }
   ],
   "source": [
    "\n",
    "title = 'Learning Curves (Logistic Regression)'\n",
    "cv = 10\n",
    "plot_learning_curve(estimator, title, X_train, y_train, ylim=(0.9, 1.01), cv= cv, n_jobs =1);"
   ]
  },
  {
   "cell_type": "code",
   "execution_count": null,
   "metadata": {},
   "outputs": [],
   "source": [
    "#to check if it is overfitting or underfitting\n",
    "'''\n",
    "Learning curves allow us to diagnose if the is overfitting or underfitting.\n",
    "not underfit, because score is high\n",
    "not overfitting\n",
    "'''"
   ]
  },
  {
   "cell_type": "code",
   "execution_count": null,
   "metadata": {},
   "outputs": [],
   "source": [
    "#no sign of over/under fitting, both are high"
   ]
  },
  {
   "cell_type": "code",
   "execution_count": 36,
   "metadata": {},
   "outputs": [],
   "source": [
    "# Plot validation curve\n",
    "def plot_validation_curve(estimator, title, X, y, param_name, param_range, ylim=None, cv=None, n_jobs=1, train_sizes=np.linspace(.1, 1.0, 5)):\n",
    "    train_scores, test_scores = validation_curve(estimator= estimator, X= X, y= y, param_name =param_name, param_range = param_range, cv=cv)\n",
    "    train_mean = np.mean(train_scores, axis=1)\n",
    "    train_std = np.std(train_scores, axis=1)\n",
    "    test_mean = np.mean(test_scores, axis=1)\n",
    "    test_std = np.std(test_scores, axis=1)\n",
    "    plt.plot(param_range, train_mean, color='r', marker='o', markersize=5, label='Training score')\n",
    "    plt.fill_between(param_range, train_mean + train_std, train_mean - train_std, alpha=0.15, color='r')\n",
    "    plt.plot(param_range, test_mean, color='g', linestyle='--', marker='s', markersize=5, label='Validation score')\n",
    "    plt.fill_between(param_range, test_mean + test_std, test_mean - test_std, alpha=0.15, color='g')\n",
    "    plt.grid() \n",
    "    plt.xscale('log')\n",
    "    plt.legend(loc='best') \n",
    "    plt.xlabel('Parameter') \n",
    "    plt.ylabel('Score') \n",
    "    plt.ylim(ylim)"
   ]
  },
  {
   "cell_type": "code",
   "execution_count": 37,
   "metadata": {
    "scrolled": true
   },
   "outputs": [
    {
     "data": {
      "image/png": "[encoded data removed]",
      "text/plain": [
       "<Figure size 432x288 with 1 Axes>"
      ]
     },
     "metadata": {
      "needs_background": "light"
     },
     "output_type": "display_data"
    }
   ],
   "source": [
    "title = 'Validation Curve (Logistic Regression)'\n",
    "param_name = 'classifier__C'  #estimator.get_params().keys()\n",
    "param_range = [0.001, 0.01, 0.1, 1.0, 10.0, 100.0] \n",
    "cv = 10\n",
    "plot_validation_curve(estimator=estimator, title=title, X=X_train, y=y_train, \n",
    "                      param_name=param_name, ylim=(0.92, 0.96), param_range=param_range);"
   ]
  },
  {
   "cell_type": "code",
   "execution_count": null,
   "metadata": {},
   "outputs": [],
   "source": [
    "#the validation curve able to drop, edge of overfitting\n",
    "#use to check hyperparam, see 10_1 get high also,no gap, gap indicate overfitting"
   ]
  },
  {
   "cell_type": "code",
   "execution_count": null,
   "metadata": {},
   "outputs": [],
   "source": [
    "#get final model\n",
    "#https://stackoverflow.com/questions/71140633/how-to-save-the-best-estimator-in-gridsearchcv\n",
    "\n",
    "#cross val score\n",
    "#https://stackoverflow.com/questions/70316221/difference-between-gridsearchcv-and-cross-val-score\n",
    "\n",
    "#Bayesian Hyperparameter Optimization methods\n"
   ]
  },
  {
   "cell_type": "code",
   "execution_count": null,
   "metadata": {},
   "outputs": [],
   "source": [
    "#distribution  curve\n",
    "#AUC\n",
    "#feature importance shap"
   ]
  },
  {
   "cell_type": "code",
   "execution_count": 38,
   "metadata": {},
   "outputs": [
    {
     "data": {
      "text/html": [
       "<div>\n",
       "<style scoped>\n",
       "    .dataframe tbody tr th:only-of-type {\n",
       "        vertical-align: middle;\n",
       "    }\n",
       "\n",
       "    .dataframe tbody tr th {\n",
       "        vertical-align: top;\n",
       "    }\n",
       "\n",
       "    .dataframe thead th {\n",
       "        text-align: right;\n",
       "    }\n",
       "</style>\n",
       "<table border=\"1\" class=\"dataframe\">\n",
       "  <thead>\n",
       "    <tr style=\"text-align: right;\">\n",
       "      <th></th>\n",
       "      <th>0</th>\n",
       "      <th>1</th>\n",
       "    </tr>\n",
       "  </thead>\n",
       "  <tbody>\n",
       "    <tr>\n",
       "      <th>0</th>\n",
       "      <td>0.815418</td>\n",
       "      <td>0.184582</td>\n",
       "    </tr>\n",
       "    <tr>\n",
       "      <th>1</th>\n",
       "      <td>0.814765</td>\n",
       "      <td>0.185235</td>\n",
       "    </tr>\n",
       "    <tr>\n",
       "      <th>2</th>\n",
       "      <td>0.995940</td>\n",
       "      <td>0.004060</td>\n",
       "    </tr>\n",
       "    <tr>\n",
       "      <th>3</th>\n",
       "      <td>0.008487</td>\n",
       "      <td>0.991513</td>\n",
       "    </tr>\n",
       "    <tr>\n",
       "      <th>4</th>\n",
       "      <td>0.760321</td>\n",
       "      <td>0.239679</td>\n",
       "    </tr>\n",
       "    <tr>\n",
       "      <th>...</th>\n",
       "      <td>...</td>\n",
       "      <td>...</td>\n",
       "    </tr>\n",
       "    <tr>\n",
       "      <th>1664</th>\n",
       "      <td>0.051040</td>\n",
       "      <td>0.948960</td>\n",
       "    </tr>\n",
       "    <tr>\n",
       "      <th>1665</th>\n",
       "      <td>0.685191</td>\n",
       "      <td>0.314809</td>\n",
       "    </tr>\n",
       "    <tr>\n",
       "      <th>1666</th>\n",
       "      <td>0.997727</td>\n",
       "      <td>0.002273</td>\n",
       "    </tr>\n",
       "    <tr>\n",
       "      <th>1667</th>\n",
       "      <td>0.034740</td>\n",
       "      <td>0.965260</td>\n",
       "    </tr>\n",
       "    <tr>\n",
       "      <th>1668</th>\n",
       "      <td>0.887224</td>\n",
       "      <td>0.112776</td>\n",
       "    </tr>\n",
       "  </tbody>\n",
       "</table>\n",
       "<p>1669 rows × 2 columns</p>\n",
       "</div>"
      ],
      "text/plain": [
       "             0         1\n",
       "0     0.815418  0.184582\n",
       "1     0.814765  0.185235\n",
       "2     0.995940  0.004060\n",
       "3     0.008487  0.991513\n",
       "4     0.760321  0.239679\n",
       "...        ...       ...\n",
       "1664  0.051040  0.948960\n",
       "1665  0.685191  0.314809\n",
       "1666  0.997727  0.002273\n",
       "1667  0.034740  0.965260\n",
       "1668  0.887224  0.112776\n",
       "\n",
       "[1669 rows x 2 columns]"
      ]
     },
     "execution_count": 38,
     "metadata": {},
     "output_type": "execute_result"
    }
   ],
   "source": [
    "#distribuation\n",
    "result_prob = estimator.predict_proba(X_test)\n",
    "df_test = pd.DataFrame(result_prob, columns= estimator.classes_) \n",
    "df_test"
   ]
  },
  {
   "cell_type": "code",
   "execution_count": 45,
   "metadata": {},
   "outputs": [
    {
     "data": {
      "text/plain": [
       "0       0.184582\n",
       "1       0.185235\n",
       "2       0.004060\n",
       "3       0.991513\n",
       "4       0.239679\n",
       "          ...   \n",
       "1664    0.948960\n",
       "1665    0.314809\n",
       "1666    0.002273\n",
       "1667    0.965260\n",
       "1668    0.112776\n",
       "Name: 1, Length: 1669, dtype: float64"
      ]
     },
     "execution_count": 45,
     "metadata": {},
     "output_type": "execute_result"
    }
   ],
   "source": [
    "df_test[1]"
   ]
  },
  {
   "cell_type": "code",
   "execution_count": 27,
   "metadata": {},
   "outputs": [
    {
     "data": {
      "text/html": [
       "<div>\n",
       "<style scoped>\n",
       "    .dataframe tbody tr th:only-of-type {\n",
       "        vertical-align: middle;\n",
       "    }\n",
       "\n",
       "    .dataframe tbody tr th {\n",
       "        vertical-align: top;\n",
       "    }\n",
       "\n",
       "    .dataframe thead th {\n",
       "        text-align: right;\n",
       "    }\n",
       "</style>\n",
       "<table border=\"1\" class=\"dataframe\">\n",
       "  <thead>\n",
       "    <tr style=\"text-align: right;\">\n",
       "      <th></th>\n",
       "      <th>prob</th>\n",
       "      <th>actual</th>\n",
       "    </tr>\n",
       "  </thead>\n",
       "  <tbody>\n",
       "    <tr>\n",
       "      <th>0</th>\n",
       "      <td>0.184582</td>\n",
       "      <td>0</td>\n",
       "    </tr>\n",
       "    <tr>\n",
       "      <th>1</th>\n",
       "      <td>0.185235</td>\n",
       "      <td>0</td>\n",
       "    </tr>\n",
       "    <tr>\n",
       "      <th>2</th>\n",
       "      <td>0.004060</td>\n",
       "      <td>0</td>\n",
       "    </tr>\n",
       "    <tr>\n",
       "      <th>3</th>\n",
       "      <td>0.991513</td>\n",
       "      <td>1</td>\n",
       "    </tr>\n",
       "    <tr>\n",
       "      <th>4</th>\n",
       "      <td>0.239679</td>\n",
       "      <td>0</td>\n",
       "    </tr>\n",
       "    <tr>\n",
       "      <th>...</th>\n",
       "      <td>...</td>\n",
       "      <td>...</td>\n",
       "    </tr>\n",
       "    <tr>\n",
       "      <th>1664</th>\n",
       "      <td>0.948960</td>\n",
       "      <td>1</td>\n",
       "    </tr>\n",
       "    <tr>\n",
       "      <th>1665</th>\n",
       "      <td>0.314809</td>\n",
       "      <td>0</td>\n",
       "    </tr>\n",
       "    <tr>\n",
       "      <th>1666</th>\n",
       "      <td>0.002273</td>\n",
       "      <td>0</td>\n",
       "    </tr>\n",
       "    <tr>\n",
       "      <th>1667</th>\n",
       "      <td>0.965260</td>\n",
       "      <td>1</td>\n",
       "    </tr>\n",
       "    <tr>\n",
       "      <th>1668</th>\n",
       "      <td>0.112776</td>\n",
       "      <td>0</td>\n",
       "    </tr>\n",
       "  </tbody>\n",
       "</table>\n",
       "<p>1669 rows × 2 columns</p>\n",
       "</div>"
      ],
      "text/plain": [
       "          prob  actual\n",
       "0     0.184582       0\n",
       "1     0.185235       0\n",
       "2     0.004060       0\n",
       "3     0.991513       1\n",
       "4     0.239679       0\n",
       "...        ...     ...\n",
       "1664  0.948960       1\n",
       "1665  0.314809       0\n",
       "1666  0.002273       0\n",
       "1667  0.965260       1\n",
       "1668  0.112776       0\n",
       "\n",
       "[1669 rows x 2 columns]"
      ]
     },
     "execution_count": 27,
     "metadata": {},
     "output_type": "execute_result"
    }
   ],
   "source": [
    "df_distr = pd.DataFrame(zip(df_test[1], y_test ), columns = ['prob',  'actual'])\n",
    "df_distr"
   ]
  },
  {
   "cell_type": "code",
   "execution_count": 32,
   "metadata": {},
   "outputs": [
    {
     "data": {
      "text/plain": [
       "<matplotlib.lines.Line2D at 0x2984d921880>"
      ]
     },
     "execution_count": 32,
     "metadata": {},
     "output_type": "execute_result"
    },
    {
     "data": {
      "image/png": "[encoded data removed]",
      "text/plain": [
       "<Figure size 402.375x360 with 1 Axes>"
      ]
     },
     "metadata": {
      "needs_background": "light"
     },
     "output_type": "display_data"
    }
   ],
   "source": [
    "#best threshold is 0.54\n",
    "g1 = sns.displot(df_distr, x = 'prob', hue = 'actual', kind = 'kde',fill= True)\n",
    "#g.ax.set_yscale('log') \n",
    "plt.axvline(x = 0.54, color = 'b', label = 'axvline - full height')"
   ]
  },
  {
   "cell_type": "code",
   "execution_count": 35,
   "metadata": {},
   "outputs": [
    {
     "data": {
      "image/png": "[encoded data removed]",
      "text/plain": [
       "<Figure size 432x288 with 1 Axes>"
      ]
     },
     "metadata": {
      "needs_background": "light"
     },
     "output_type": "display_data"
    }
   ],
   "source": [
    "#https://stackoverflow.com/questions/25009284/how-to-plot-roc-curve-in-python\n",
    "#ROC curve\n",
    "import sklearn.metrics as metrics\n",
    "# calculate the fpr and tpr for all thresholds of the classification\n",
    "probs = estimator.predict_proba(X_test)\n",
    "preds = probs[:,1]\n",
    "fpr, tpr, threshold = metrics.roc_curve(y_test, preds)\n",
    "roc_auc = metrics.auc(fpr, tpr)\n",
    "\n",
    "# method I: plt\n",
    "import matplotlib.pyplot as plt\n",
    "plt.title('Receiver Operating Characteristic')\n",
    "plt.plot(fpr, tpr, 'b', label = 'AUC = %0.2f' % roc_auc)\n",
    "plt.legend(loc = 'lower right')\n",
    "plt.plot([0, 1], [0, 1],'r--')\n",
    "plt.xlim([0, 1])\n",
    "plt.ylim([0, 1])\n",
    "plt.ylabel('True Positive Rate')\n",
    "plt.xlabel('False Positive Rate')\n",
    "plt.show()\n"
   ]
  },
  {
   "cell_type": "code",
   "execution_count": null,
   "metadata": {},
   "outputs": [],
   "source": [
    "shap.initjs()\n",
    "explainer = shap.TreeExplainer(estimator)\n",
    "shap_values = explainer.shap_values(X_test)\n",
    "shap.summary_plot(shap_values, features=X_test, feature_names=column_names, plot_type='bar')"
   ]
  },
  {
   "cell_type": "code",
   "execution_count": null,
   "metadata": {},
   "outputs": [],
   "source": [
    "#https://learn.microsoft.com/en-us/analysis-services/data-mining/lift-chart-analysis-services-data-mining?view=asallproducts-allversions"
   ]
  },
  {
   "cell_type": "code",
   "execution_count": 36,
   "metadata": {},
   "outputs": [],
   "source": [
    "import scikitplot as skplt"
   ]
  },
  {
   "cell_type": "code",
   "execution_count": 44,
   "metadata": {},
   "outputs": [
    {
     "data": {
      "text/plain": [
       "<AxesSubplot:title={'center':'Lift Curve'}, xlabel='Percentage of sample', ylabel='Lift'>"
      ]
     },
     "execution_count": 44,
     "metadata": {},
     "output_type": "execute_result"
    },
    {
     "data": {
      "image/png": "[encoded data removed]",
      "text/plain": [
       "<Figure size 432x288 with 1 Axes>"
      ]
     },
     "metadata": {
      "needs_background": "light"
     },
     "output_type": "display_data"
    }
   ],
   "source": [
    "#https://scikit-plot.readthedocs.io/en/stable/metrics.html\n",
    "#http://www2.cs.uregina.ca/~dbd/cs831/notes/lift_chart/lift_chart.html\n",
    "skplt.metrics.plot_lift_curve(y_test, df_test[[0, 1]])"
   ]
  },
  {
   "cell_type": "code",
   "execution_count": 17,
   "metadata": {},
   "outputs": [
    {
     "data": {
      "text/plain": [
       "12478    0\n",
       "5805     0\n",
       "675      0\n",
       "1907     1\n",
       "6972     0\n",
       "        ..\n",
       "17000    1\n",
       "14294    0\n",
       "20770    0\n",
       "18684    1\n",
       "7769     0\n",
       "Name: Recommended IND, Length: 1669, dtype: int64"
      ]
     },
     "execution_count": 17,
     "metadata": {},
     "output_type": "execute_result"
    }
   ],
   "source": [
    "y_test"
   ]
  },
  {
   "cell_type": "code",
   "execution_count": null,
   "metadata": {},
   "outputs": [],
   "source": []
  }
 ],
 "metadata": {
  "kernelspec": {
   "display_name": "ML",
   "language": "python",
   "name": "ml"
  },
  "language_info": {
   "codemirror_mode": {
    "name": "ipython",
    "version": 3
   },
   "file_extension": ".py",
   "mimetype": "text/x-python",
   "name": "python",
   "nbconvert_exporter": "python",
   "pygments_lexer": "ipython3",
   "version": "3.8.0"
  }
 },
 "nbformat": 4,
 "nbformat_minor": 2
}
