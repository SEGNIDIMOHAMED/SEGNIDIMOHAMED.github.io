{
 "cells": [
  {
   "cell_type": "code",
   "execution_count": 1,
   "metadata": {},
   "outputs": [],
   "source": [
    "import logging\n",
    "import datetime as dt \n",
    "import os"
   ]
  },
  {
   "cell_type": "code",
   "execution_count": null,
   "metadata": {},
   "outputs": [],
   "source": [
    "timestamp   = dt.datetime.now().strftime(\"%Y%m%d%H%M%S\")\n",
    "logfile     = os.path.join(config['aws']['local_folder'], f'cancel_{timestamp}.log')\n",
    "logging.captureWarnings(True)\n",
    "logging.basicConfig(filename=logfile, format='%(asctime)s %(message)s', filemode='w', force=True)\n",
    "logger = logging.getLogger()\n",
    "logger.setLevel(logging.INFO)"
   ]
  },
  {
   "cell_type": "code",
   "execution_count": 17,
   "metadata": {},
   "outputs": [
    {
     "name": "stderr",
     "output_type": "stream",
     "text": [
      "2023-09-29 14:30:08,007 [INFO] hello world\n"
     ]
    }
   ],
   "source": [
    "#https://stackoverflow.com/questions/13733552/logger-configuration-to-log-to-file-and-print-to-stdout\n",
    "#https://stackoverflow.com/questions/29087297/is-there-a-way-to-change-the-filemode-for-a-logger-object-that-is-not-configured\n",
    "logging.basicConfig(\n",
    "    level=logging.INFO,\n",
    "    format=\"%(asctime)s [%(levelname)s] %(message)s\",\n",
    "    handlers=[\n",
    "        logging.FileHandler(\"debug.log\", mode='w'),\n",
    "        logging.StreamHandler()\n",
    "    ],\n",
    "    #filemode='w', \n",
    "    force=True\n",
    ")\n",
    "logger = logging.getLogger()\n",
    "\n",
    "logger.info('hello world')\n"
   ]
  },
  {
   "cell_type": "code",
   "execution_count": 18,
   "metadata": {},
   "outputs": [
    {
     "name": "stderr",
     "output_type": "stream",
     "text": [
      "2023-09-29 14:37:43,606 [ERROR] division by zero\n"
     ]
    }
   ],
   "source": [
    "#being able to give error info, famous devide zeor error, create call stack\n",
    "\n",
    "def f1 (a, b):\n",
    "    return a/b\n",
    "\n",
    "try:\n",
    "    f1(3,0)\n",
    "except Exception as e:\n",
    "    logger.error(e)"
   ]
  },
  {
   "cell_type": "code",
   "execution_count": 10,
   "metadata": {},
   "outputs": [
    {
     "name": "stderr",
     "output_type": "stream",
     "text": [
      "2023-09-29 14:07:55,900 [ERROR] division by zero\n",
      "Traceback (most recent call last):\n",
      "  File \"C:\\Users\\A036898\\AppData\\Local\\Temp\\ipykernel_34784\\1389742972.py\", line 5, in <module>\n",
      "    f1(3,0)\n",
      "  File \"C:\\Users\\A036898\\AppData\\Local\\Temp\\ipykernel_34784\\1389742972.py\", line 2, in f1\n",
      "    return a/b\n",
      "ZeroDivisionError: division by zero\n"
     ]
    }
   ],
   "source": [
    "def f1 (a, b):\n",
    "    return a/b\n",
    "\n",
    "try:\n",
    "    f1(3,0)\n",
    "except Exception as e:\n",
    "    logger.error(e,  exc_info=True)"
   ]
  },
  {
   "cell_type": "code",
   "execution_count": 14,
   "metadata": {},
   "outputs": [
    {
     "name": "stderr",
     "output_type": "stream",
     "text": [
      "2023-09-29 14:27:52,335 [ERROR] division by zero\n",
      "Traceback (most recent call last):\n",
      "  File \"C:\\Users\\A036898\\AppData\\Local\\Temp\\ipykernel_34784\\798336952.py\", line 3, in <module>\n",
      "    f1(3,0)\n",
      "  File \"C:\\Users\\A036898\\AppData\\Local\\Temp\\ipykernel_34784\\957729449.py\", line 4, in f1\n",
      "    return a/b\n",
      "ZeroDivisionError: division by zero\n"
     ]
    }
   ],
   "source": [
    " #stack_info=True\n",
    "try:\n",
    "    f1(3,0)\n",
    "except Exception as e:\n",
    "    logger.exception(e)"
   ]
  }
 ],
 "metadata": {
  "kernelspec": {
   "display_name": "edsds",
   "language": "python",
   "name": "python3"
  },
  "language_info": {
   "codemirror_mode": {
    "name": "ipython",
    "version": 3
   },
   "file_extension": ".py",
   "mimetype": "text/x-python",
   "name": "python",
   "nbconvert_exporter": "python",
   "pygments_lexer": "ipython3",
   "version": "3.10.12"
  },
  "orig_nbformat": 4
 },
 "nbformat": 4,
 "nbformat_minor": 2
}
